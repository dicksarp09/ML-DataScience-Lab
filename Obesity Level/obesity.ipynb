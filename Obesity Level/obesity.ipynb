{
 "cells": [
  {
   "cell_type": "code",
   "execution_count": 3,
   "id": "36fd783a",
   "metadata": {},
   "outputs": [],
   "source": [
    "import streamlit as st\n",
    "import joblib\n",
    "import numpy as np\n",
    "\n",
    "# Load the trained model\n",
    "model = joblib.load(\"xgboost_obesity_model.pkl\")\n",
    "\n",
    "# Streamlit UI\n",
    "st.title(\"Obesity Prediction App\")\n",
    "\n",
    "# User input fields\n",
    "gender = st.selectbox(\"Gender\", [\"Male\", \"Female\"])\n",
    "age = st.number_input(\"Age\", min_value=1, max_value=100, value=25)\n",
    "height = st.number_input(\"Height (m)\", min_value=0.5, max_value=2.5, value=1.7)\n",
    "weight = st.number_input(\"Weight (kg)\", min_value=10, max_value=300, value=70)\n",
    "family_history = st.selectbox(\"Family History of Obesity\", [\"Yes\", \"No\"])\n",
    "FAVC = st.selectbox(\"Frequent Consumption of High-Calorie Foods\", [\"Yes\", \"No\"])\n",
    "FCVC = st.slider(\"Vegetable Consumption Frequency (1-3)\", 1, 3, 2)\n",
    "NCP = st.slider(\"Number of Main Meals Per Day\", 1, 4, 3)\n",
    "CAEC = st.selectbox(\"Consumption of Food Between Meals\", [\"No\", \"Sometimes\", \"Frequently\", \"Always\"])\n",
    "SMOKE = st.selectbox(\"Do you smoke?\", [\"Yes\", \"No\"])\n",
    "CH2O = st.slider(\"Daily Water Intake (Liters)\", 1, 3, 2)\n",
    "SCC = st.selectbox(\"Calories Consumption Monitoring\", [\"Yes\", \"No\"])\n",
    "FAF = st.slider(\"Physical Activity Frequency (0-3)\", 0, 3, 1)\n",
    "TUE = st.slider(\"Time Using Technology Devices (0-2)\", 0, 2, 1)\n",
    "CALC = st.selectbox(\"Alcohol Consumption\", [\"No\", \"Sometimes\", \"Frequently\", \"Always\"])\n",
    "MTRANS = st.selectbox(\"Main Transportation Mode\", [\"Automobile\", \"Bike\", \"Motorbike\", \"Public_Transportation\", \"Walking\"])\n",
    "\n",
    "# Convert categorical inputs to numerical values\n",
    "mapping = {\"Yes\": 1, \"No\": 0, \"Male\": 1, \"Female\": 0,\n",
    "           \"No\": 0, \"Sometimes\": 1, \"Frequently\": 2, \"Always\": 3,\n",
    "           \"Automobile\": 0, \"Bike\": 1, \"Motorbike\": 2, \"Public_Transportation\": 3, \"Walking\": 4}\n",
    "\n",
    "def encode(value):\n",
    "    return mapping.get(value, value)\n",
    "\n",
    "input_data = np.array([\n",
    "    encode(gender), age, height, weight, encode(family_history), encode(FAVC),\n",
    "    FCVC, NCP, encode(CAEC), encode(SMOKE), CH2O, encode(SCC), FAF, TUE,\n",
    "    encode(CALC), encode(MTRANS)\n",
    "]).reshape(1, -1)\n",
    "\n",
    "if st.button(\"Predict Obesity Level\"):\n",
    "    prediction = model.predict(input_data)[0]\n",
    "    st.write(f\"Predicted Obesity Level: {prediction}\")\n"
   ]
  },
  {
   "cell_type": "code",
   "execution_count": null,
   "id": "eedfc4fb",
   "metadata": {},
   "outputs": [],
   "source": []
  }
 ],
 "metadata": {
  "kernelspec": {
   "display_name": "Python 3 (ipykernel)",
   "language": "python",
   "name": "python3"
  },
  "language_info": {
   "codemirror_mode": {
    "name": "ipython",
    "version": 3
   },
   "file_extension": ".py",
   "mimetype": "text/x-python",
   "name": "python",
   "nbconvert_exporter": "python",
   "pygments_lexer": "ipython3",
   "version": "3.11.3"
  }
 },
 "nbformat": 4,
 "nbformat_minor": 5
}
